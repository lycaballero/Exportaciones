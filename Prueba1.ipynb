{
 "cells": [
  {
   "cell_type": "markdown",
   "id": "40c75e20",
   "metadata": {},
   "source": [
    "# Análisis de datos de Exportaciones"
   ]
  },
  {
   "cell_type": "code",
   "execution_count": 6,
   "id": "28e000e4",
   "metadata": {},
   "outputs": [],
   "source": [
    "import pandas as pd\n",
    "import matplotlib.pyplot as plt "
   ]
  },
  {
   "cell_type": "code",
   "execution_count": 7,
   "id": "a0d24252",
   "metadata": {},
   "outputs": [
    {
     "data": {
      "text/html": [
       "<div>\n",
       "<style scoped>\n",
       "    .dataframe tbody tr th:only-of-type {\n",
       "        vertical-align: middle;\n",
       "    }\n",
       "\n",
       "    .dataframe tbody tr th {\n",
       "        vertical-align: top;\n",
       "    }\n",
       "\n",
       "    .dataframe thead th {\n",
       "        text-align: right;\n",
       "    }\n",
       "</style>\n",
       "<table border=\"1\" class=\"dataframe\">\n",
       "  <thead>\n",
       "    <tr style=\"text-align: right;\">\n",
       "      <th></th>\n",
       "      <th>Año</th>\n",
       "      <th>Mes</th>\n",
       "      <th>Departamento</th>\n",
       "      <th>Producto General</th>\n",
       "      <th>Descripcion Partida 4 Digitos</th>\n",
       "      <th>Partida</th>\n",
       "      <th>Descripcion Partida10 Digitos</th>\n",
       "      <th>Exportaciones en valor (Miles USD FOB)</th>\n",
       "      <th>Exportaciones en volumen (toneladas)</th>\n",
       "    </tr>\n",
       "  </thead>\n",
       "  <tbody>\n",
       "    <tr>\n",
       "      <th>0</th>\n",
       "      <td>2022</td>\n",
       "      <td>Septiembre</td>\n",
       "      <td>Antioquia</td>\n",
       "      <td>Aceite de lino</td>\n",
       "      <td>1515-Las demás grasas y aceites vegetales fijo...</td>\n",
       "      <td>1515190000</td>\n",
       "      <td>Los demás aceites de lino (linaza) y sus fracc...</td>\n",
       "      <td>7</td>\n",
       "      <td>1</td>\n",
       "    </tr>\n",
       "    <tr>\n",
       "      <th>1</th>\n",
       "      <td>2022</td>\n",
       "      <td>Septiembre</td>\n",
       "      <td>Antioquia</td>\n",
       "      <td>Aceites esenciales</td>\n",
       "      <td>3301-Aceites esenciales (desterpenados o no), ...</td>\n",
       "      <td>3301120000</td>\n",
       "      <td>Aceites esenciales de naranja.</td>\n",
       "      <td>84</td>\n",
       "      <td>17</td>\n",
       "    </tr>\n",
       "    <tr>\n",
       "      <th>2</th>\n",
       "      <td>2022</td>\n",
       "      <td>Septiembre</td>\n",
       "      <td>Antioquia</td>\n",
       "      <td>Aceites esenciales</td>\n",
       "      <td>3301-Aceites esenciales (desterpenados o no), ...</td>\n",
       "      <td>3301292000</td>\n",
       "      <td>Aceites esenciales de eucalipto.</td>\n",
       "      <td>1</td>\n",
       "      <td>0</td>\n",
       "    </tr>\n",
       "    <tr>\n",
       "      <th>3</th>\n",
       "      <td>2022</td>\n",
       "      <td>Septiembre</td>\n",
       "      <td>Antioquia</td>\n",
       "      <td>Aceites esenciales</td>\n",
       "      <td>3301-Aceites esenciales (desterpenados o no), ...</td>\n",
       "      <td>3301902000</td>\n",
       "      <td>Oleorresinas de extracción.</td>\n",
       "      <td>3</td>\n",
       "      <td>1</td>\n",
       "    </tr>\n",
       "    <tr>\n",
       "      <th>4</th>\n",
       "      <td>2022</td>\n",
       "      <td>Septiembre</td>\n",
       "      <td>Antioquia</td>\n",
       "      <td>Aceites esenciales</td>\n",
       "      <td>3301-Aceites esenciales (desterpenados o no), ...</td>\n",
       "      <td>3301909000</td>\n",
       "      <td>Los demás aceites esenciales (desterpenados o ...</td>\n",
       "      <td>0</td>\n",
       "      <td>0</td>\n",
       "    </tr>\n",
       "    <tr>\n",
       "      <th>...</th>\n",
       "      <td>...</td>\n",
       "      <td>...</td>\n",
       "      <td>...</td>\n",
       "      <td>...</td>\n",
       "      <td>...</td>\n",
       "      <td>...</td>\n",
       "      <td>...</td>\n",
       "      <td>...</td>\n",
       "      <td>...</td>\n",
       "    </tr>\n",
       "    <tr>\n",
       "      <th>1327</th>\n",
       "      <td>2022</td>\n",
       "      <td>Septiembre</td>\n",
       "      <td>Valle del Cauca</td>\n",
       "      <td>Té</td>\n",
       "      <td>0902-Té, incluso aromatizado.</td>\n",
       "      <td>902100000</td>\n",
       "      <td>Té verde (sin fermentar) presentado en envases...</td>\n",
       "      <td>28</td>\n",
       "      <td>1</td>\n",
       "    </tr>\n",
       "    <tr>\n",
       "      <th>1328</th>\n",
       "      <td>2022</td>\n",
       "      <td>Septiembre</td>\n",
       "      <td>Valle del Cauca</td>\n",
       "      <td>Té</td>\n",
       "      <td>0902-Té, incluso aromatizado.</td>\n",
       "      <td>902200000</td>\n",
       "      <td>Té verde (sin fermentar), presentado de otra f...</td>\n",
       "      <td>1</td>\n",
       "      <td>0</td>\n",
       "    </tr>\n",
       "    <tr>\n",
       "      <th>1329</th>\n",
       "      <td>2022</td>\n",
       "      <td>Septiembre</td>\n",
       "      <td>Valle del Cauca</td>\n",
       "      <td>Té</td>\n",
       "      <td>0902-Té, incluso aromatizado.</td>\n",
       "      <td>902300000</td>\n",
       "      <td>Té negro (fermentado) y té parcialmente fermen...</td>\n",
       "      <td>127</td>\n",
       "      <td>10</td>\n",
       "    </tr>\n",
       "    <tr>\n",
       "      <th>1330</th>\n",
       "      <td>2022</td>\n",
       "      <td>Septiembre</td>\n",
       "      <td>Valle del Cauca</td>\n",
       "      <td>Tortas y demás residuos sólidos de la extracci...</td>\n",
       "      <td>2304-Tortas y demás residuos sólidos de la ext...</td>\n",
       "      <td>2304000000</td>\n",
       "      <td>Tortas y demás residuos sólidos de la extracci...</td>\n",
       "      <td>18</td>\n",
       "      <td>20</td>\n",
       "    </tr>\n",
       "    <tr>\n",
       "      <th>1331</th>\n",
       "      <td>2022</td>\n",
       "      <td>Septiembre</td>\n",
       "      <td>Valle del Cauca</td>\n",
       "      <td>Vinagre</td>\n",
       "      <td>2209-Vinagre y sucedáneos del vinagre obtenido...</td>\n",
       "      <td>2209000000</td>\n",
       "      <td>Vinagre y sucedáneos del vinagre obtenidos a p...</td>\n",
       "      <td>4</td>\n",
       "      <td>2</td>\n",
       "    </tr>\n",
       "  </tbody>\n",
       "</table>\n",
       "<p>1332 rows × 9 columns</p>\n",
       "</div>"
      ],
      "text/plain": [
       "       Año         Mes     Departamento  \\\n",
       "0     2022  Septiembre        Antioquia   \n",
       "1     2022  Septiembre        Antioquia   \n",
       "2     2022  Septiembre        Antioquia   \n",
       "3     2022  Septiembre        Antioquia   \n",
       "4     2022  Septiembre        Antioquia   \n",
       "...    ...         ...              ...   \n",
       "1327  2022  Septiembre  Valle del Cauca   \n",
       "1328  2022  Septiembre  Valle del Cauca   \n",
       "1329  2022  Septiembre  Valle del Cauca   \n",
       "1330  2022  Septiembre  Valle del Cauca   \n",
       "1331  2022  Septiembre  Valle del Cauca   \n",
       "\n",
       "                                       Producto General  \\\n",
       "0                                        Aceite de lino   \n",
       "1                                    Aceites esenciales   \n",
       "2                                    Aceites esenciales   \n",
       "3                                    Aceites esenciales   \n",
       "4                                    Aceites esenciales   \n",
       "...                                                 ...   \n",
       "1327                                                 Té   \n",
       "1328                                                 Té   \n",
       "1329                                                 Té   \n",
       "1330  Tortas y demás residuos sólidos de la extracci...   \n",
       "1331                                            Vinagre   \n",
       "\n",
       "                          Descripcion Partida 4 Digitos     Partida  \\\n",
       "0     1515-Las demás grasas y aceites vegetales fijo...  1515190000   \n",
       "1     3301-Aceites esenciales (desterpenados o no), ...  3301120000   \n",
       "2     3301-Aceites esenciales (desterpenados o no), ...  3301292000   \n",
       "3     3301-Aceites esenciales (desterpenados o no), ...  3301902000   \n",
       "4     3301-Aceites esenciales (desterpenados o no), ...  3301909000   \n",
       "...                                                 ...         ...   \n",
       "1327                      0902-Té, incluso aromatizado.   902100000   \n",
       "1328                      0902-Té, incluso aromatizado.   902200000   \n",
       "1329                      0902-Té, incluso aromatizado.   902300000   \n",
       "1330  2304-Tortas y demás residuos sólidos de la ext...  2304000000   \n",
       "1331  2209-Vinagre y sucedáneos del vinagre obtenido...  2209000000   \n",
       "\n",
       "                          Descripcion Partida10 Digitos  \\\n",
       "0     Los demás aceites de lino (linaza) y sus fracc...   \n",
       "1                        Aceites esenciales de naranja.   \n",
       "2                      Aceites esenciales de eucalipto.   \n",
       "3                           Oleorresinas de extracción.   \n",
       "4     Los demás aceites esenciales (desterpenados o ...   \n",
       "...                                                 ...   \n",
       "1327  Té verde (sin fermentar) presentado en envases...   \n",
       "1328  Té verde (sin fermentar), presentado de otra f...   \n",
       "1329  Té negro (fermentado) y té parcialmente fermen...   \n",
       "1330  Tortas y demás residuos sólidos de la extracci...   \n",
       "1331  Vinagre y sucedáneos del vinagre obtenidos a p...   \n",
       "\n",
       "      Exportaciones en valor (Miles USD FOB)  \\\n",
       "0                                          7   \n",
       "1                                         84   \n",
       "2                                          1   \n",
       "3                                          3   \n",
       "4                                          0   \n",
       "...                                      ...   \n",
       "1327                                      28   \n",
       "1328                                       1   \n",
       "1329                                     127   \n",
       "1330                                      18   \n",
       "1331                                       4   \n",
       "\n",
       "      Exportaciones en volumen (toneladas)  \n",
       "0                                        1  \n",
       "1                                       17  \n",
       "2                                        0  \n",
       "3                                        1  \n",
       "4                                        0  \n",
       "...                                    ...  \n",
       "1327                                     1  \n",
       "1328                                     0  \n",
       "1329                                    10  \n",
       "1330                                    20  \n",
       "1331                                     2  \n",
       "\n",
       "[1332 rows x 9 columns]"
      ]
     },
     "execution_count": 7,
     "metadata": {},
     "output_type": "execute_result"
    }
   ],
   "source": [
    "datos=pd.read_csv('Exportaciones_agr_colas_no_tradicionales_y_tradicionales.csv',header=0)\n",
    "datos"
   ]
  },
  {
   "cell_type": "markdown",
   "id": "a8724545",
   "metadata": {},
   "source": [
    "A continuación se listan las columnas a tratar "
   ]
  },
  {
   "cell_type": "code",
   "execution_count": 8,
   "id": "11c2a198",
   "metadata": {},
   "outputs": [
    {
     "data": {
      "text/plain": [
       "Index(['Año', 'Mes', 'Departamento', 'Producto General',\n",
       "       'Descripcion Partida 4 Digitos', 'Partida',\n",
       "       'Descripcion Partida10 Digitos',\n",
       "       'Exportaciones en valor (Miles USD FOB)',\n",
       "       'Exportaciones en volumen (toneladas)'],\n",
       "      dtype='object')"
      ]
     },
     "execution_count": 8,
     "metadata": {},
     "output_type": "execute_result"
    }
   ],
   "source": [
    "# El métodos columns extrae la columnas de la base de datos \n",
    "datos.columns\n"
   ]
  },
  {
   "cell_type": "markdown",
   "id": "c2b2883e",
   "metadata": {},
   "source": [
    "En la siguiente voy a graficar las toneladas por mes de la base de datos "
   ]
  },
  {
   "cell_type": "code",
   "execution_count": 19,
   "id": "77debda5",
   "metadata": {},
   "outputs": [
    {
     "data": {
      "image/png": "[encoded data removed]",
      "text/plain": [
       "<Figure size 432x288 with 1 Axes>"
      ]
     },
     "metadata": {
      "needs_background": "light"
     },
     "output_type": "display_data"
    }
   ],
   "source": [
    "# Definir vector del eje x\n",
    "x = datos[\"Exportaciones en valor (Miles USD FOB)\"]\n",
    "# Definir el valor y\n",
    "y = datos[\"Exportaciones en volumen (toneladas)\"]\n",
    "\n",
    "plt.plot(x, y, \"b.\")\n",
    "plt.xlabel(\"USD\")\n",
    "plt.ylabel(\"Toneladas\")\n",
    "plt.title(\"Toneladas Vs USD\")\n",
    "plt.grid(True)\n",
    "plt.show()\n"
   ]
  },
  {
   "cell_type": "markdown",
   "id": "0bd32736",
   "metadata": {},
   "source": [
    "Ahora, vamos a describir de manera general los datos "
   ]
  },
  {
   "cell_type": "code",
   "execution_count": 20,
   "id": "bb66c16e",
   "metadata": {},
   "outputs": [
    {
     "data": {
      "text/html": [
       "<div>\n",
       "<style scoped>\n",
       "    .dataframe tbody tr th:only-of-type {\n",
       "        vertical-align: middle;\n",
       "    }\n",
       "\n",
       "    .dataframe tbody tr th {\n",
       "        vertical-align: top;\n",
       "    }\n",
       "\n",
       "    .dataframe thead th {\n",
       "        text-align: right;\n",
       "    }\n",
       "</style>\n",
       "<table border=\"1\" class=\"dataframe\">\n",
       "  <thead>\n",
       "    <tr style=\"text-align: right;\">\n",
       "      <th></th>\n",
       "      <th>Año</th>\n",
       "      <th>Partida</th>\n",
       "      <th>Exportaciones en valor (Miles USD FOB)</th>\n",
       "      <th>Exportaciones en volumen (toneladas)</th>\n",
       "    </tr>\n",
       "  </thead>\n",
       "  <tbody>\n",
       "    <tr>\n",
       "      <th>count</th>\n",
       "      <td>1332.0</td>\n",
       "      <td>1.332000e+03</td>\n",
       "      <td>1332.000000</td>\n",
       "      <td>1332.000000</td>\n",
       "    </tr>\n",
       "    <tr>\n",
       "      <th>mean</th>\n",
       "      <td>2022.0</td>\n",
       "      <td>1.352538e+09</td>\n",
       "      <td>708.499249</td>\n",
       "      <td>413.064565</td>\n",
       "    </tr>\n",
       "    <tr>\n",
       "      <th>std</th>\n",
       "      <td>0.0</td>\n",
       "      <td>7.318857e+08</td>\n",
       "      <td>4585.883981</td>\n",
       "      <td>5427.590475</td>\n",
       "    </tr>\n",
       "    <tr>\n",
       "      <th>min</th>\n",
       "      <td>2022.0</td>\n",
       "      <td>1.012100e+08</td>\n",
       "      <td>0.000000</td>\n",
       "      <td>0.000000</td>\n",
       "    </tr>\n",
       "    <tr>\n",
       "      <th>25%</th>\n",
       "      <td>2022.0</td>\n",
       "      <td>8.039012e+08</td>\n",
       "      <td>2.000000</td>\n",
       "      <td>1.000000</td>\n",
       "    </tr>\n",
       "    <tr>\n",
       "      <th>50%</th>\n",
       "      <td>2022.0</td>\n",
       "      <td>1.212950e+09</td>\n",
       "      <td>19.000000</td>\n",
       "      <td>4.500000</td>\n",
       "    </tr>\n",
       "    <tr>\n",
       "      <th>75%</th>\n",
       "      <td>2022.0</td>\n",
       "      <td>2.007100e+09</td>\n",
       "      <td>130.250000</td>\n",
       "      <td>38.000000</td>\n",
       "    </tr>\n",
       "    <tr>\n",
       "      <th>max</th>\n",
       "      <td>2022.0</td>\n",
       "      <td>4.103200e+09</td>\n",
       "      <td>76332.000000</td>\n",
       "      <td>167059.000000</td>\n",
       "    </tr>\n",
       "  </tbody>\n",
       "</table>\n",
       "</div>"
      ],
      "text/plain": [
       "          Año       Partida  Exportaciones en valor (Miles USD FOB)  \\\n",
       "count  1332.0  1.332000e+03                             1332.000000   \n",
       "mean   2022.0  1.352538e+09                              708.499249   \n",
       "std       0.0  7.318857e+08                             4585.883981   \n",
       "min    2022.0  1.012100e+08                                0.000000   \n",
       "25%    2022.0  8.039012e+08                                2.000000   \n",
       "50%    2022.0  1.212950e+09                               19.000000   \n",
       "75%    2022.0  2.007100e+09                              130.250000   \n",
       "max    2022.0  4.103200e+09                            76332.000000   \n",
       "\n",
       "       Exportaciones en volumen (toneladas)  \n",
       "count                           1332.000000  \n",
       "mean                             413.064565  \n",
       "std                             5427.590475  \n",
       "min                                0.000000  \n",
       "25%                                1.000000  \n",
       "50%                                4.500000  \n",
       "75%                               38.000000  \n",
       "max                           167059.000000  "
      ]
     },
     "execution_count": 20,
     "metadata": {},
     "output_type": "execute_result"
    }
   ],
   "source": [
    "datos.describe()\n"
   ]
  },
  {
   "cell_type": "markdown",
   "id": "2021c392",
   "metadata": {},
   "source": [
    "Se obtiene información "
   ]
  },
  {
   "cell_type": "code",
   "execution_count": 28,
   "id": "e1249e73",
   "metadata": {},
   "outputs": [
    {
     "name": "stdout",
     "output_type": "stream",
     "text": [
      "<class 'pandas.core.frame.DataFrame'>\n",
      "RangeIndex: 1332 entries, 0 to 1331\n",
      "Data columns (total 9 columns):\n",
      " #   Column                                  Non-Null Count  Dtype \n",
      "---  ------                                  --------------  ----- \n",
      " 0   Año                                     1332 non-null   int64 \n",
      " 1   Mes                                     1332 non-null   object\n",
      " 2   Departamento                            1332 non-null   object\n",
      " 3   Producto General                        1332 non-null   object\n",
      " 4   Descripcion Partida 4 Digitos           1332 non-null   object\n",
      " 5   Partida                                 1332 non-null   int64 \n",
      " 6   Descripcion Partida10 Digitos           1332 non-null   object\n",
      " 7   Exportaciones en valor (Miles USD FOB)  1332 non-null   int64 \n",
      " 8   Exportaciones en volumen (toneladas)    1332 non-null   int64 \n",
      "dtypes: int64(4), object(5)\n",
      "memory usage: 93.8+ KB\n"
     ]
    }
   ],
   "source": [
    "datos.info()"
   ]
  },
  {
   "cell_type": "code",
   "execution_count": 32,
   "id": "21aecb9e",
   "metadata": {},
   "outputs": [
    {
     "data": {
      "text/html": [
       "<div>\n",
       "<style scoped>\n",
       "    .dataframe tbody tr th:only-of-type {\n",
       "        vertical-align: middle;\n",
       "    }\n",
       "\n",
       "    .dataframe tbody tr th {\n",
       "        vertical-align: top;\n",
       "    }\n",
       "\n",
       "    .dataframe thead th {\n",
       "        text-align: right;\n",
       "    }\n",
       "</style>\n",
       "<table border=\"1\" class=\"dataframe\">\n",
       "  <thead>\n",
       "    <tr style=\"text-align: right;\">\n",
       "      <th></th>\n",
       "      <th>Año</th>\n",
       "      <th>Mes</th>\n",
       "      <th>Departamento</th>\n",
       "      <th>Producto General</th>\n",
       "      <th>Descripcion Partida 4 Digitos</th>\n",
       "      <th>Partida</th>\n",
       "      <th>Descripcion Partida10 Digitos</th>\n",
       "      <th>Exportaciones en valor (Miles USD FOB)</th>\n",
       "      <th>Exportaciones en volumen (toneladas)</th>\n",
       "    </tr>\n",
       "  </thead>\n",
       "  <tbody>\n",
       "    <tr>\n",
       "      <th>0</th>\n",
       "      <td>2022</td>\n",
       "      <td>Septiembre</td>\n",
       "      <td>Antioquia</td>\n",
       "      <td>Aceite de lino</td>\n",
       "      <td>1515-Las demás grasas y aceites vegetales fijo...</td>\n",
       "      <td>1515190000</td>\n",
       "      <td>Los demás aceites de lino (linaza) y sus fracc...</td>\n",
       "      <td>7</td>\n",
       "      <td>1</td>\n",
       "    </tr>\n",
       "    <tr>\n",
       "      <th>1</th>\n",
       "      <td>2022</td>\n",
       "      <td>Septiembre</td>\n",
       "      <td>Antioquia</td>\n",
       "      <td>Aceites esenciales</td>\n",
       "      <td>3301-Aceites esenciales (desterpenados o no), ...</td>\n",
       "      <td>3301120000</td>\n",
       "      <td>Aceites esenciales de naranja.</td>\n",
       "      <td>84</td>\n",
       "      <td>17</td>\n",
       "    </tr>\n",
       "    <tr>\n",
       "      <th>2</th>\n",
       "      <td>2022</td>\n",
       "      <td>Septiembre</td>\n",
       "      <td>Antioquia</td>\n",
       "      <td>Aceites esenciales</td>\n",
       "      <td>3301-Aceites esenciales (desterpenados o no), ...</td>\n",
       "      <td>3301292000</td>\n",
       "      <td>Aceites esenciales de eucalipto.</td>\n",
       "      <td>1</td>\n",
       "      <td>0</td>\n",
       "    </tr>\n",
       "    <tr>\n",
       "      <th>3</th>\n",
       "      <td>2022</td>\n",
       "      <td>Septiembre</td>\n",
       "      <td>Antioquia</td>\n",
       "      <td>Aceites esenciales</td>\n",
       "      <td>3301-Aceites esenciales (desterpenados o no), ...</td>\n",
       "      <td>3301902000</td>\n",
       "      <td>Oleorresinas de extracción.</td>\n",
       "      <td>3</td>\n",
       "      <td>1</td>\n",
       "    </tr>\n",
       "    <tr>\n",
       "      <th>4</th>\n",
       "      <td>2022</td>\n",
       "      <td>Septiembre</td>\n",
       "      <td>Antioquia</td>\n",
       "      <td>Aceites esenciales</td>\n",
       "      <td>3301-Aceites esenciales (desterpenados o no), ...</td>\n",
       "      <td>3301909000</td>\n",
       "      <td>Los demás aceites esenciales (desterpenados o ...</td>\n",
       "      <td>0</td>\n",
       "      <td>0</td>\n",
       "    </tr>\n",
       "  </tbody>\n",
       "</table>\n",
       "</div>"
      ],
      "text/plain": [
       "    Año         Mes Departamento    Producto General  \\\n",
       "0  2022  Septiembre    Antioquia      Aceite de lino   \n",
       "1  2022  Septiembre    Antioquia  Aceites esenciales   \n",
       "2  2022  Septiembre    Antioquia  Aceites esenciales   \n",
       "3  2022  Septiembre    Antioquia  Aceites esenciales   \n",
       "4  2022  Septiembre    Antioquia  Aceites esenciales   \n",
       "\n",
       "                       Descripcion Partida 4 Digitos     Partida  \\\n",
       "0  1515-Las demás grasas y aceites vegetales fijo...  1515190000   \n",
       "1  3301-Aceites esenciales (desterpenados o no), ...  3301120000   \n",
       "2  3301-Aceites esenciales (desterpenados o no), ...  3301292000   \n",
       "3  3301-Aceites esenciales (desterpenados o no), ...  3301902000   \n",
       "4  3301-Aceites esenciales (desterpenados o no), ...  3301909000   \n",
       "\n",
       "                       Descripcion Partida10 Digitos  \\\n",
       "0  Los demás aceites de lino (linaza) y sus fracc...   \n",
       "1                     Aceites esenciales de naranja.   \n",
       "2                   Aceites esenciales de eucalipto.   \n",
       "3                        Oleorresinas de extracción.   \n",
       "4  Los demás aceites esenciales (desterpenados o ...   \n",
       "\n",
       "   Exportaciones en valor (Miles USD FOB)  \\\n",
       "0                                       7   \n",
       "1                                      84   \n",
       "2                                       1   \n",
       "3                                       3   \n",
       "4                                       0   \n",
       "\n",
       "   Exportaciones en volumen (toneladas)  \n",
       "0                                     1  \n",
       "1                                    17  \n",
       "2                                     0  \n",
       "3                                     1  \n",
       "4                                     0  "
      ]
     },
     "execution_count": 32,
     "metadata": {},
     "output_type": "execute_result"
    }
   ],
   "source": [
    "datos.head()"
   ]
  },
  {
   "cell_type": "code",
   "execution_count": 33,
   "id": "394d5b58",
   "metadata": {},
   "outputs": [
    {
     "data": {
      "text/html": [
       "<div>\n",
       "<style scoped>\n",
       "    .dataframe tbody tr th:only-of-type {\n",
       "        vertical-align: middle;\n",
       "    }\n",
       "\n",
       "    .dataframe tbody tr th {\n",
       "        vertical-align: top;\n",
       "    }\n",
       "\n",
       "    .dataframe thead th {\n",
       "        text-align: right;\n",
       "    }\n",
       "</style>\n",
       "<table border=\"1\" class=\"dataframe\">\n",
       "  <thead>\n",
       "    <tr style=\"text-align: right;\">\n",
       "      <th></th>\n",
       "      <th>Año</th>\n",
       "      <th>Mes</th>\n",
       "      <th>Departamento</th>\n",
       "      <th>Producto General</th>\n",
       "      <th>Descripcion Partida 4 Digitos</th>\n",
       "      <th>Partida</th>\n",
       "      <th>Descripcion Partida10 Digitos</th>\n",
       "      <th>Exportaciones en valor (Miles USD FOB)</th>\n",
       "      <th>Exportaciones en volumen (toneladas)</th>\n",
       "    </tr>\n",
       "  </thead>\n",
       "  <tbody>\n",
       "    <tr>\n",
       "      <th>1327</th>\n",
       "      <td>2022</td>\n",
       "      <td>Septiembre</td>\n",
       "      <td>Valle del Cauca</td>\n",
       "      <td>Té</td>\n",
       "      <td>0902-Té, incluso aromatizado.</td>\n",
       "      <td>902100000</td>\n",
       "      <td>Té verde (sin fermentar) presentado en envases...</td>\n",
       "      <td>28</td>\n",
       "      <td>1</td>\n",
       "    </tr>\n",
       "    <tr>\n",
       "      <th>1328</th>\n",
       "      <td>2022</td>\n",
       "      <td>Septiembre</td>\n",
       "      <td>Valle del Cauca</td>\n",
       "      <td>Té</td>\n",
       "      <td>0902-Té, incluso aromatizado.</td>\n",
       "      <td>902200000</td>\n",
       "      <td>Té verde (sin fermentar), presentado de otra f...</td>\n",
       "      <td>1</td>\n",
       "      <td>0</td>\n",
       "    </tr>\n",
       "    <tr>\n",
       "      <th>1329</th>\n",
       "      <td>2022</td>\n",
       "      <td>Septiembre</td>\n",
       "      <td>Valle del Cauca</td>\n",
       "      <td>Té</td>\n",
       "      <td>0902-Té, incluso aromatizado.</td>\n",
       "      <td>902300000</td>\n",
       "      <td>Té negro (fermentado) y té parcialmente fermen...</td>\n",
       "      <td>127</td>\n",
       "      <td>10</td>\n",
       "    </tr>\n",
       "    <tr>\n",
       "      <th>1330</th>\n",
       "      <td>2022</td>\n",
       "      <td>Septiembre</td>\n",
       "      <td>Valle del Cauca</td>\n",
       "      <td>Tortas y demás residuos sólidos de la extracci...</td>\n",
       "      <td>2304-Tortas y demás residuos sólidos de la ext...</td>\n",
       "      <td>2304000000</td>\n",
       "      <td>Tortas y demás residuos sólidos de la extracci...</td>\n",
       "      <td>18</td>\n",
       "      <td>20</td>\n",
       "    </tr>\n",
       "    <tr>\n",
       "      <th>1331</th>\n",
       "      <td>2022</td>\n",
       "      <td>Septiembre</td>\n",
       "      <td>Valle del Cauca</td>\n",
       "      <td>Vinagre</td>\n",
       "      <td>2209-Vinagre y sucedáneos del vinagre obtenido...</td>\n",
       "      <td>2209000000</td>\n",
       "      <td>Vinagre y sucedáneos del vinagre obtenidos a p...</td>\n",
       "      <td>4</td>\n",
       "      <td>2</td>\n",
       "    </tr>\n",
       "  </tbody>\n",
       "</table>\n",
       "</div>"
      ],
      "text/plain": [
       "       Año         Mes     Departamento  \\\n",
       "1327  2022  Septiembre  Valle del Cauca   \n",
       "1328  2022  Septiembre  Valle del Cauca   \n",
       "1329  2022  Septiembre  Valle del Cauca   \n",
       "1330  2022  Septiembre  Valle del Cauca   \n",
       "1331  2022  Septiembre  Valle del Cauca   \n",
       "\n",
       "                                       Producto General  \\\n",
       "1327                                                 Té   \n",
       "1328                                                 Té   \n",
       "1329                                                 Té   \n",
       "1330  Tortas y demás residuos sólidos de la extracci...   \n",
       "1331                                            Vinagre   \n",
       "\n",
       "                          Descripcion Partida 4 Digitos     Partida  \\\n",
       "1327                      0902-Té, incluso aromatizado.   902100000   \n",
       "1328                      0902-Té, incluso aromatizado.   902200000   \n",
       "1329                      0902-Té, incluso aromatizado.   902300000   \n",
       "1330  2304-Tortas y demás residuos sólidos de la ext...  2304000000   \n",
       "1331  2209-Vinagre y sucedáneos del vinagre obtenido...  2209000000   \n",
       "\n",
       "                          Descripcion Partida10 Digitos  \\\n",
       "1327  Té verde (sin fermentar) presentado en envases...   \n",
       "1328  Té verde (sin fermentar), presentado de otra f...   \n",
       "1329  Té negro (fermentado) y té parcialmente fermen...   \n",
       "1330  Tortas y demás residuos sólidos de la extracci...   \n",
       "1331  Vinagre y sucedáneos del vinagre obtenidos a p...   \n",
       "\n",
       "      Exportaciones en valor (Miles USD FOB)  \\\n",
       "1327                                      28   \n",
       "1328                                       1   \n",
       "1329                                     127   \n",
       "1330                                      18   \n",
       "1331                                       4   \n",
       "\n",
       "      Exportaciones en volumen (toneladas)  \n",
       "1327                                     1  \n",
       "1328                                     0  \n",
       "1329                                    10  \n",
       "1330                                    20  \n",
       "1331                                     2  "
      ]
     },
     "execution_count": 33,
     "metadata": {},
     "output_type": "execute_result"
    }
   ],
   "source": [
    "datos.tail()"
   ]
  },
  {
   "cell_type": "markdown",
   "id": "e448c917",
   "metadata": {},
   "source": [
    "# Histogramas"
   ]
  },
  {
   "cell_type": "code",
   "execution_count": 38,
   "id": "797f4050",
   "metadata": {},
   "outputs": [
    {
     "data": {
      "image/png": "[encoded data removed]",
      "text/plain": [
       "<Figure size 432x288 with 1 Axes>"
      ]
     },
     "metadata": {
      "needs_background": "light"
     },
     "output_type": "display_data"
    }
   ],
   "source": [
    "plt.hist(datos[\"Exportaciones en valor (Miles USD FOB)\"], bins = 100, color=\"yellow\", ec=\"Black\")\n",
    "plt.xlabel(\"USD\")\n",
    "plt.ylabel(\"Frecuencia\")\n",
    "plt.show()\n"
   ]
  },
  {
   "cell_type": "code",
   "execution_count": 39,
   "id": "1f4a6df3",
   "metadata": {},
   "outputs": [
    {
     "data": {
      "text/plain": [
       "Text(0.5, 0, 'Toneladas')"
      ]
     },
     "execution_count": 39,
     "metadata": {},
     "output_type": "execute_result"
    },
    {
     "data": {
      "image/png": "[encoded data removed]",
      "text/plain": [
       "<Figure size 432x288 with 1 Axes>"
      ]
     },
     "metadata": {
      "needs_background": "light"
     },
     "output_type": "display_data"
    }
   ],
   "source": [
    "plt.hist(datos['Exportaciones en volumen (toneladas)'], bins=100, color=\"yellow\", ec=\"Black\")\n",
    "plt.ylabel(\"Frecuencia\")\n",
    "plt.xlabel(\"Toneladas\")"
   ]
  },
  {
   "cell_type": "code",
   "execution_count": 44,
   "id": "46356a1d",
   "metadata": {},
   "outputs": [
    {
     "name": "stdout",
     "output_type": "stream",
     "text": [
      "Promedio de las exportaciones (toneladas) 413.06\n"
     ]
    }
   ],
   "source": [
    "promedio_toneladas = datos['Exportaciones en volumen (toneladas)'].mean()\n",
    "print(f\"Promedio de las exportaciones (toneladas) {promedio_toneladas:.2f}\")\n"
   ]
  },
  {
   "cell_type": "code",
   "execution_count": 45,
   "id": "68d9cc59",
   "metadata": {},
   "outputs": [
    {
     "name": "stdout",
     "output_type": "stream",
     "text": [
      " Promedio exportaciones USD 708.50\n"
     ]
    }
   ],
   "source": [
    "promedio_exportaciones = datos['Exportaciones en valor (Miles USD FOB)'].mean()\n",
    "print(f\" Promedio exportaciones USD {promedio_exportaciones:.2f}\")"
   ]
  },
  {
   "cell_type": "markdown",
   "id": "2e0bc3e3",
   "metadata": {},
   "source": [
    "Validación de datos vacíos"
   ]
  },
  {
   "cell_type": "code",
   "execution_count": 53,
   "id": "799e154d",
   "metadata": {},
   "outputs": [
    {
     "data": {
      "text/plain": [
       "Año                                       0\n",
       "Mes                                       0\n",
       "Departamento                              0\n",
       "Producto General                          0\n",
       "Descripcion Partida 4 Digitos             0\n",
       "Partida                                   0\n",
       "Descripcion Partida10 Digitos             0\n",
       "Exportaciones en valor (Miles USD FOB)    0\n",
       "Exportaciones en volumen (toneladas)      0\n",
       "dtype: int64"
      ]
     },
     "execution_count": 53,
     "metadata": {},
     "output_type": "execute_result"
    }
   ],
   "source": [
    "datos.isnull().sum()"
   ]
  },
  {
   "cell_type": "code",
   "execution_count": null,
   "id": "d01e36b8",
   "metadata": {},
   "outputs": [],
   "source": []
  }
 ],
 "metadata": {
  "kernelspec": {
   "display_name": "Python 3.6.13 ('paruma')",
   "language": "python",
   "name": "python3"
  },
  "language_info": {
   "codemirror_mode": {
    "name": "ipython",
    "version": 3
   },
   "file_extension": ".py",
   "mimetype": "text/x-python",
   "name": "python",
   "nbconvert_exporter": "python",
   "pygments_lexer": "ipython3",
   "version": "3.6.13"
  },
  "vscode": {
   "interpreter": {
    "hash": "d064fa398977c1d50284cbef2ba48e40178d3a51b1f0def1d800ec1289a8d9d4"
   }
  }
 },
 "nbformat": 4,
 "nbformat_minor": 5
}
