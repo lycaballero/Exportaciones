{
 "cells": [
  {
   "cell_type": "markdown",
   "metadata": {},
   "source": [
    "# Graficos"
   ]
  },
  {
   "cell_type": "markdown",
   "metadata": {
    "collapsed": true
   },
   "source": [
    "## Librerías\n",
    "\n",
    "Existen varias librerías en Python para crear gráficos.  Algunas de las más populares y sus utilidades principales son:\n",
    "\n",
    "* `matplotlib`: gráficos estáticos y básicos, interfaz de bajo nivel.\n",
    "* `pandas plot`: construido sobre matplotlib, simplifica la construcción de gráficos basados en DataFrames.\n",
    "* `seaborn`: construido sobre matplotlib, proporciona una interfaz de más alto nivel.\n",
    "* `bokeh`: gráficos html, añadiendo cierto nivel de interacción.\n",
    "* `dash`: para dashboards, con selectores y otros elementos de interacción. Es el *shiny de Python*."
   ]
  },
  {
   "cell_type": "markdown",
   "metadata": {},
   "source": [
    "## Pandas plot\n",
    "\n",
    "Si ya tenemos los datos en un `DataFrame` y no necesitamos mucha personalización, nos vale el [`plot`](https://pandas.pydata.org/pandas-docs/stable/generated/pandas.DataFrame.plot.html) que trae `pandas`."
   ]
  },
  {
   "cell_type": "code",
   "execution_count": null,
   "metadata": {},
   "outputs": [],
   "source": [
    "%matplotlib inline"
   ]
  },
  {
   "cell_type": "markdown",
   "metadata": {},
   "source": [
    "Un `plot` sobre el DataFrame nos pinta todas las columnas."
   ]
  },
  {
   "cell_type": "code",
   "execution_count": null,
   "metadata": {},
   "outputs": [],
   "source": [
    "import pandas as pd\n",
    "\n",
    "venta = pd.read_csv('dat/venta-madrid-distritos.csv', index_col=False)\n",
    "out = venta.plot(subplots=True)"
   ]
  },
  {
   "cell_type": "markdown",
   "metadata": {},
   "source": [
    "En la documentación de [`plot`](https://pandas.pydata.org/pandas-docs/stable/generated/pandas.DataFrame.plot.html) se indica cómo modificar los parámetros fundamentales del gráfico, como a continuación:"
   ]
  },
  {
   "cell_type": "code",
   "execution_count": null,
   "metadata": {},
   "outputs": [],
   "source": [
    "out = venta.plot(subplots=True, figsize = (15, 10))"
   ]
  },
  {
   "cell_type": "markdown",
   "metadata": {},
   "source": [
    "Podemos pintar un gráfico especificando el tipo, el eje x y el eje y. Por ejemplo, para ver la evolución del precio a comienzo de cada año en un distrito concreto."
   ]
  },
  {
   "cell_type": "code",
   "execution_count": null,
   "metadata": {},
   "outputs": [],
   "source": [
    "out = venta[(venta.distrito == 'San Blas') & (venta.quarter == 1)].plot(kind='scatter', x='ano', y='precio')"
   ]
  },
  {
   "cell_type": "markdown",
   "metadata": {},
   "source": [
    "Un ejemplo pintando un histograma sobre una de las columnas:"
   ]
  },
  {
   "cell_type": "code",
   "execution_count": null,
   "metadata": {},
   "outputs": [],
   "source": [
    "out = venta[(venta.ano == 2012) & (venta.quarter == 1)].precio.plot(kind='hist')"
   ]
  },
  {
   "cell_type": "markdown",
   "metadata": {},
   "source": [
    "Para los histogramas y boxplots tenemos una interfaz más avanzada que podemos usar:\n",
    "\n",
    "* [`boxplot`](https://pandas.pydata.org/pandas-docs/stable/generated/pandas.DataFrame.boxplot.html)\n",
    "* [`hist`](https://pandas.pydata.org/pandas-docs/stable/generated/pandas.DataFrame.hist.html)"
   ]
  },
  {
   "cell_type": "markdown",
   "metadata": {},
   "source": [
    "Por ejemplo, para pintar los boxplots de precios por distrito."
   ]
  },
  {
   "cell_type": "code",
   "execution_count": null,
   "metadata": {},
   "outputs": [],
   "source": [
    "out = venta.boxplot('precio', by='distrito', figsize=(15, 5), rot=90)"
   ]
  },
  {
   "cell_type": "markdown",
   "metadata": {},
   "source": [
    "#### Ejercicio\n",
    "\n",
    "Pinta un histograma para todos los precios de comienzo de cada año (primer cuatrimestre) con franjas más estrechas (es decir, más `bins`)"
   ]
  },
  {
   "cell_type": "code",
   "execution_count": null,
   "metadata": {},
   "outputs": [],
   "source": []
  },
  {
   "cell_type": "markdown",
   "metadata": {},
   "source": [
    "## Seaborn\n",
    "\n",
    "Un ejemplo de uso de seaborn, para pintar la evolución de precios a comienzo de cada año, usando una línea por distrito:"
   ]
  },
  {
   "cell_type": "code",
   "execution_count": null,
   "metadata": {},
   "outputs": [],
   "source": [
    "import seaborn as sns\n",
    "\n",
    "out = sns.lineplot(data=venta[venta.quarter == 1],\n",
    "                   x='ano', y='precio', hue='distrito',\n",
    "                   legend=False)"
   ]
  },
  {
   "cell_type": "markdown",
   "metadata": {},
   "source": [
    "#### Ejercicio\n",
    "\n",
    "Pinta con seaborn un gráfico de barras que muestre el precio de cada distrito en el año y cuatrimestre más reciente. Píntalo de forma que los distritos estén ordenados de mayor a menor precio."
   ]
  },
  {
   "cell_type": "code",
   "execution_count": null,
   "metadata": {},
   "outputs": [],
   "source": []
  },
  {
   "cell_type": "markdown",
   "metadata": {},
   "source": [
    "Puedes consultar la documentación completa de seaborn [aquí](https://seaborn.pydata.org/). O un resumen de las funciones más importantes [aquí](https://s3.amazonaws.com/assets.datacamp.com/blog_assets/Python_Seaborn_Cheat_Sheet.pdf)"
   ]
  },
  {
   "cell_type": "markdown",
   "metadata": {},
   "source": [
    "## Bokeh\n",
    "\n",
    "Podemos pintar el gráfico anterior con `Bokeh`:"
   ]
  },
  {
   "cell_type": "code",
   "execution_count": null,
   "metadata": {},
   "outputs": [],
   "source": [
    "from bokeh.io import output_notebook\n",
    "\n",
    "output_notebook()"
   ]
  },
  {
   "cell_type": "code",
   "execution_count": null,
   "metadata": {},
   "outputs": [],
   "source": [
    "from bokeh.plotting import figure, show\n",
    "from bokeh.models import HoverTool\n",
    "from bokeh.palettes import viridis\n",
    "\n",
    "data = venta[venta.quarter == 1].copy()\n",
    "\n",
    "# La paleta de colores\n",
    "distritos = data.distrito.unique()\n",
    "color_palette = viridis(len(distritos))\n",
    "color_map = dict(zip(distritos, color_palette))\n",
    "\n",
    "# Configuración del gráfico: títulos y etiquetas\n",
    "p = figure(title = 'Evolución precio de venta')\n",
    "p.xaxis.axis_label = 'Año'\n",
    "p.yaxis.axis_label = '€ metro cuadrado'\n",
    "\n",
    "# Por cada distrito, una línea y su hover (popup al pasar el ratón por encima)\n",
    "for distrito, group in data.groupby('distrito'):\n",
    "    line = p.line(group.ano, group.precio, color=color_map[distrito], name=distrito)\n",
    "    hover = HoverTool(tooltips=[('distrito', distrito),\n",
    "                                ('año', '@x'),\n",
    "                                ('precio', '@y{int}')],\n",
    "                      renderers=[line], toggleable=False)\n",
    "    p.add_tools(hover)\n",
    "\n",
    "show(p)"
   ]
  },
  {
   "cell_type": "markdown",
   "metadata": {},
   "source": [
    "## Dash\n",
    "\n",
    "Dash es un framework para construir aplicaciones web de análisis de datos. Usa React con Plotly para el frontend, y Flask para el backend. Nos permite crear fácilmente dashboards complejos únicamente usando Python, sin necesidad de Javascript.\n",
    "\n",
    "Necesita un servidor que corra la aplicación.\n",
    "\n",
    "Para ver ejemplos y más información, consulta la [web de Dash](https://plot.ly/products/dash/)"
   ]
  },
  {
   "cell_type": "code",
   "execution_count": null,
   "metadata": {},
   "outputs": [],
   "source": []
  }
 ],
 "metadata": {
  "kernelspec": {
   "display_name": "libropython",
   "language": "python",
   "name": "libropython"
  },
  "language_info": {
   "codemirror_mode": {
    "name": "ipython",
    "version": 3
   },
   "file_extension": ".py",
   "mimetype": "text/x-python",
   "name": "python",
   "nbconvert_exporter": "python",
   "pygments_lexer": "ipython3",
   "version": "3.7.3"
  }
 },
 "nbformat": 4,
 "nbformat_minor": 2
}
